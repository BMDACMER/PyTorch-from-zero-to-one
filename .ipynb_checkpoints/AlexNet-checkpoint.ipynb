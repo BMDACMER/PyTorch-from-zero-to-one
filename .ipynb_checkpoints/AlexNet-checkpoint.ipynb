{
 "cells": [
  {
   "cell_type": "markdown",
   "metadata": {},
   "source": [
    "参考：https://github.com/liuwei1206/deep-learning/blob/master/AlexNet/main.py\n",
    "\n",
    "https://blog.csdn.net/xuan_liu123/article/details/89105997\n",
    "\n",
    "再MNIST 数据集上测试"
   ]
  },
  {
   "cell_type": "code",
   "execution_count": 5,
   "metadata": {},
   "outputs": [],
   "source": [
    "import torch\n",
    "import torchvision\n",
    "import torch.nn as nn\n",
    "import torch.optim as optim\n",
    "import torchvision.transforms as transforms\n",
    "import torch.nn.functional as F\n",
    "\n",
    "from torch.utils.data import DataLoader\n",
    "\n",
    "import time"
   ]
  },
  {
   "cell_type": "code",
   "execution_count": 4,
   "metadata": {},
   "outputs": [],
   "source": [
    "# 定义网络结构\n",
    "class AlexNet(nn.Module):\n",
    "    \n",
    "    def __init__(self):\n",
    "        super(AlexNet, self).__init__()\n",
    "        # 由于MNIST为28x28， 而最初AlexNet的输入图片是227x227的。所以网络层数和参数需要调节\n",
    "        self.features = nn.Sequential(\n",
    "            nn.Conv2d(1, 32, kernel_size=3, padding=1),\n",
    "            nn.ReLU(inplace=True),  # inplace = True  为了省空间\n",
    "            nn.MaxPool2d(2, 2),\n",
    "            \n",
    "            nn.Conv2d(32, 64, kernel_size=3, stride=1, padding=1),\n",
    "            nn.ReLU(inplace=True),\n",
    "            nn.MaxPool2d(2, 2),\n",
    "            \n",
    "            nn.Conv2d(64, 128, kernel_size=3, stride=1, padding=1),\n",
    "            nn.Conv2d(128, 256, kernel_size=3, stride=1, padding=1),\n",
    "            nn.Conv2d(256, 256, kernel_size=3, stride=1, padding=1),\n",
    "            nn.ReLU(inplace=True),\n",
    "            nn.MaxPool2d(2, 2)\n",
    "            )\n",
    "        self.fc = nn.Sequential(\n",
    "            nn.Linear(256*3*3, 1024),\n",
    "            nn.Linear(1024,512),\n",
    "            nn.Linear(512,10)\n",
    "            )\n",
    "        \n",
    "    def forward(self, x):\n",
    "        x = self.features(x)\n",
    "        x = self.fc(x.view(x.size(0), -1))  # x = x.view(-1, 256 * 3 * 3)\n",
    "        return x"
   ]
  },
  {
   "cell_type": "code",
   "execution_count": 6,
   "metadata": {},
   "outputs": [],
   "source": [
    "# 数据增强\n",
    "transform = transforms.Compose([\n",
    "    transforms.RandomHorizontalFlip(),# 对图片进行概率为0.5随机反转\n",
    "    transforms.RandomGrayscale(),\n",
    "    transforms.ToTensor()\n",
    "])\n",
    "\n",
    "transform1 = transforms.Compose([\n",
    "    transforms.ToTensor()\n",
    "]) \n",
    "\n",
    "# 加载数据\n",
    "trainset = torchvision.datasets.MNIST(root='data/',train=True,download=True,transform=transform)\n",
    "trainloader = DataLoader(trainset, batch_size=100, shuffle=True)\n",
    "testset = torchvision.datasets.MNIST(root='data/',train=False,download=True,transform=transform)\n",
    "testloader = DataLoader(testset, batch_size=100, shuffle=False)"
   ]
  },
  {
   "cell_type": "code",
   "execution_count": 14,
   "metadata": {},
   "outputs": [
    {
     "name": "stdout",
     "output_type": "stream",
     "text": [
      "Start Training!\n",
      "[1/20] Loss: 0.02299, Acc: 11.94, Time: 15.9 s\n",
      "[2/20] Loss: 0.02285, Acc: 18.85, Time: 16.0 s\n",
      "[3/20] Loss: 0.01496, Acc: 53.52, Time: 16.1 s\n",
      "[4/20] Loss: 0.00544, Acc: 82.31, Time: 15.9 s\n",
      "[5/20] Loss: 0.00362, Acc: 88.14, Time: 15.9 s\n",
      "[6/20] Loss: 0.00271, Acc: 91.22, Time: 16.0 s\n",
      "[7/20] Loss: 0.00218, Acc: 93.03, Time: 16.0 s\n",
      "[8/20] Loss: 0.00186, Acc: 94.09, Time: 15.9 s\n",
      "[9/20] Loss: 0.00167, Acc: 94.72, Time: 15.9 s\n",
      "[10/20] Loss: 0.00150, Acc: 95.27, Time: 15.9 s\n",
      "[11/20] Loss: 0.00139, Acc: 95.55, Time: 16.1 s\n",
      "[12/20] Loss: 0.00125, Acc: 95.97, Time: 15.9 s\n",
      "[13/20] Loss: 0.00117, Acc: 96.28, Time: 15.9 s\n",
      "[14/20] Loss: 0.00112, Acc: 96.43, Time: 15.8 s\n",
      "[15/20] Loss: 0.00105, Acc: 96.59, Time: 16.1 s\n",
      "[16/20] Loss: 0.00100, Acc: 96.77, Time: 15.9 s\n",
      "[17/20] Loss: 0.00095, Acc: 96.99, Time: 16.0 s\n",
      "[18/20] Loss: 0.00093, Acc: 97.06, Time: 16.0 s\n",
      "[19/20] Loss: 0.00089, Acc: 97.15, Time: 15.9 s\n",
      "[20/20] Loss: 0.00083, Acc: 97.39, Time: 16.1 s\n",
      "Finished Traning\n"
     ]
    }
   ],
   "source": [
    "model = AlexNet()\n",
    "\n",
    "criterian = nn.CrossEntropyLoss()\n",
    "optimizer = optim.SGD(model.parameters(), lr=1e-3, momentum=0.9)\n",
    "\n",
    "#device : GPU or CPU\n",
    "device = torch.device(\"cuda:0\" if torch.cuda.is_available() else \"cpu\")\n",
    "\n",
    "model.to(device)\n",
    "\n",
    "print(\"Start Training!\")\n",
    "\n",
    "num_epoches = 20\n",
    "\n",
    "for epoch in range(num_epoches):\n",
    "    running_loss = 0.\n",
    "    running_acc = 0.\n",
    "    batch_size = 100\n",
    "    start = time.time()\n",
    "    \n",
    "    for (img, label) in trainloader:\n",
    "        img = img.to(device)\n",
    "        label = label.to(device)\n",
    "        \n",
    "        outputs = model(img)\n",
    "        loss = criterian(outputs, label)\n",
    "        optimizer.zero_grad()\n",
    "        loss.backward()\n",
    "        optimizer.step()\n",
    "        \n",
    "        running_loss += loss.item()\n",
    "        _, pred = outputs.max(1)\n",
    "        num_correct = (pred == label).sum().item()\n",
    "        running_acc += num_correct\n",
    "    \n",
    "    running_loss /= len(trainset)\n",
    "    running_acc /= len(trainset)\n",
    "    print(\"[%d/%d] Loss: %.5f, Acc: %.2f, Time: %.1f s\" %(epoch+1, num_epoches, running_loss, 100*running_acc, time.time()-start))\n",
    "\n",
    "print(\"Finished Traning\")"
   ]
  },
  {
   "cell_type": "code",
   "execution_count": 16,
   "metadata": {},
   "outputs": [
    {
     "name": "stderr",
     "output_type": "stream",
     "text": [
      "D:\\software\\Anaconda3\\lib\\site-packages\\torch\\serialization.py:256: UserWarning: Couldn't retrieve source code for container of type AlexNet. It won't be checked for correctness upon loading.\n",
      "  \"type \" + obj.__name__ + \". It won't be checked \"\n"
     ]
    }
   ],
   "source": [
    "# 保存模型\n",
    "torch.save(model, 'model/AlexNet_MNIST.pkl')\n",
    "net = torch.load('model/AlexNet_MNIST.pkl')"
   ]
  },
  {
   "cell_type": "code",
   "execution_count": 18,
   "metadata": {},
   "outputs": [
    {
     "name": "stdout",
     "output_type": "stream",
     "text": [
      "Test:Loss:0.00087, Acc:97.09 %\n"
     ]
    }
   ],
   "source": [
    "# evaluate\n",
    "testloss = 0.\n",
    "testacc = 0.\n",
    "for (img, label) in testloader:\n",
    "    img = img.to(device)\n",
    "    label = label.to(device)\n",
    "    \n",
    "    outputs = net(img)\n",
    "    loss = criterian(outputs, label)\n",
    "    \n",
    "    testloss += loss.item()\n",
    "    _, pred = outputs.max(1)\n",
    "    num_correct = (pred == label).sum().item()\n",
    "    testacc += num_correct\n",
    "\n",
    "testloss /= len(testset)\n",
    "testacc /= len(testset)\n",
    "print(\"Test:Loss:%.5f, Acc:%.2f %%\" %(testloss, 100*testacc))"
   ]
  },
  {
   "cell_type": "code",
   "execution_count": null,
   "metadata": {},
   "outputs": [],
   "source": []
  }
 ],
 "metadata": {
  "kernelspec": {
   "display_name": "Python 3",
   "language": "python",
   "name": "python3"
  },
  "language_info": {
   "codemirror_mode": {
    "name": "ipython",
    "version": 3
   },
   "file_extension": ".py",
   "mimetype": "text/x-python",
   "name": "python",
   "nbconvert_exporter": "python",
   "pygments_lexer": "ipython3",
   "version": "3.6.5"
  }
 },
 "nbformat": 4,
 "nbformat_minor": 2
}
