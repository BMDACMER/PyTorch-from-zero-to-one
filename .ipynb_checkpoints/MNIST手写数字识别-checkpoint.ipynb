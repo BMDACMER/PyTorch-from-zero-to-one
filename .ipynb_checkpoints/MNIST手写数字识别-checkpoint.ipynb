{
 "cells": [
  {
   "cell_type": "markdown",
   "metadata": {},
   "source": [
    "### 下面用MNIST举例，讲解深度神经网络"
   ]
  },
  {
   "cell_type": "code",
   "execution_count": 1,
   "metadata": {},
   "outputs": [],
   "source": [
    "import numpy as np\n",
    "import torch\n",
    "from torchvision.datasets import mnist     # 导入pytorch内置的mnist数据\n",
    "\n",
    "from torch import nn\n",
    "from torch.autograd import Variable"
   ]
  },
  {
   "cell_type": "code",
   "execution_count": null,
   "metadata": {},
   "outputs": [],
   "source": [
    "# 使用内置函数下载mnist数据集\n",
    "train_set = mnist.MNIST('data/MNIST', train=True, download=True)\n",
    "test_set = mnist.MNIST('data/MNIST/', train=False, download=True)"
   ]
  },
  {
   "cell_type": "code",
   "execution_count": null,
   "metadata": {},
   "outputs": [],
   "source": [
    "## 看看其中的数据是什么样子的\n",
    "a_data, a_label = train_set[0]\n",
    "print(\"a_data:{}, a_label:{}\".format(a_data, a_label))"
   ]
  },
  {
   "cell_type": "code",
   "execution_count": null,
   "metadata": {},
   "outputs": [],
   "source": [
    "a_data"
   ]
  },
  {
   "cell_type": "code",
   "execution_count": null,
   "metadata": {},
   "outputs": [],
   "source": [
    "# 这里的读入的数据是PIL库中的格式，我们可以非常方便将其转换为numpy array\n",
    "a_data = np.array(a_data, dtype='float32')\n",
    "print(a_data.shape)"
   ]
  },
  {
   "cell_type": "code",
   "execution_count": 2,
   "metadata": {},
   "outputs": [],
   "source": [
    "# 对于神经网络，我们第一层的输入就是 28 x 28 = 784，所以必须将得到的数据我们做一个变换，使用 reshape 将他们拉平成一个一维向量\n",
    "def data_tf(x):\n",
    "    x = np.array(x, dtype='float32') / 255\n",
    "    x = (x-0.5) / 0.5  # 标准化\n",
    "    x = x.reshape((-1,))   # 拉平\n",
    "    x = torch.from_numpy(x)\n",
    "    return x\n",
    "    \n",
    "train_set = mnist.MNIST('data/',train=True, transform=data_tf, download=True)    # 重新载入数据集， 申明定义数据变换\n",
    "test_set = mnist.MNIST('data/', train=False, transform=data_tf, download=True)"
   ]
  },
  {
   "cell_type": "code",
   "execution_count": 3,
   "metadata": {},
   "outputs": [
    {
     "name": "stdout",
     "output_type": "stream",
     "text": [
      "torch.Size([784]) \t 5\n"
     ]
    }
   ],
   "source": [
    "a, a_label = train_set[0]\n",
    "print(a.shape,\"\\t\",a_label)"
   ]
  },
  {
   "cell_type": "code",
   "execution_count": 4,
   "metadata": {},
   "outputs": [
    {
     "name": "stdout",
     "output_type": "stream",
     "text": [
      "torch.Size([64, 784]) \t torch.Size([64])\n"
     ]
    }
   ],
   "source": [
    "from torch.utils.data import DataLoader\n",
    "# 使用pytorch自带的DataLoader定义一个数据迭代器\n",
    "# \n",
    "train_data = DataLoader(train_set, batch_size=64, shuffle=True)\n",
    "test_data = DataLoader(test_set, batch_size=128, shuffle=False)\n",
    "\n",
    "#使用这样的数据迭代器是非常有必要的，如果数据量太大，就无法一次将他们全部读入内存，所以需要使用 python 迭代器，每次生成一个批次的数据\n",
    "a, a_label = next(iter(train_data))\n",
    "\n",
    "#打印出一个批次的数据大小\n",
    "print(a.shape,\"\\t\", a_label.shape)"
   ]
  },
  {
   "cell_type": "code",
   "execution_count": 5,
   "metadata": {},
   "outputs": [],
   "source": [
    "# 使用Sequential定义 4 层神经网络\n",
    "net = nn.Sequential(\n",
    "    nn.Linear(784, 400),\n",
    "    nn.ReLU(),\n",
    "    nn.Linear(400, 200),\n",
    "    nn.ReLU(),\n",
    "    nn.Linear(200, 100),\n",
    "    nn.ReLU(),\n",
    "    nn.Linear(100, 10)\n",
    ")\n",
    "\n",
    "# 定义 loss 函数\n",
    "criterion = nn.CrossEntropyLoss()\n",
    "optimizer = torch.optim.SGD(net.parameters(), lr=1e-1, momentum=0.9)\n"
   ]
  },
  {
   "cell_type": "code",
   "execution_count": 6,
   "metadata": {},
   "outputs": [
    {
     "name": "stdout",
     "output_type": "stream",
     "text": [
      "epoch: 0, Train Loss: 0.699141, Train Acc: 0.794176, Eval Loss: 0.581313, Eval Acc: 0.851464\n",
      "epoch: 1, Train Loss: 0.413042, Train Acc: 0.895439, Eval Loss: 0.399277, Eval Acc: 0.908821\n",
      "epoch: 2, Train Loss: 0.401034, Train Acc: 0.898954, Eval Loss: 0.385868, Eval Acc: 0.913271\n",
      "epoch: 3, Train Loss: 0.357731, Train Acc: 0.912763, Eval Loss: 0.373002, Eval Acc: 0.912579\n",
      "epoch: 4, Train Loss: 0.362629, Train Acc: 0.911497, Eval Loss: 0.321500, Eval Acc: 0.920095\n",
      "epoch: 5, Train Loss: 0.335771, Train Acc: 0.917711, Eval Loss: 0.389512, Eval Acc: 0.893394\n",
      "epoch: 6, Train Loss: 0.336271, Train Acc: 0.920376, Eval Loss: 0.355984, Eval Acc: 0.910700\n",
      "epoch: 7, Train Loss: 0.321090, Train Acc: 0.923291, Eval Loss: 0.378458, Eval Acc: 0.912876\n",
      "epoch: 8, Train Loss: 0.306310, Train Acc: 0.926656, Eval Loss: 0.387091, Eval Acc: 0.910700\n",
      "epoch: 9, Train Loss: 0.291070, Train Acc: 0.929921, Eval Loss: 0.324787, Eval Acc: 0.932456\n",
      "epoch: 10, Train Loss: 0.340289, Train Acc: 0.919493, Eval Loss: 0.364978, Eval Acc: 0.918809\n",
      "epoch: 11, Train Loss: 0.497523, Train Acc: 0.885444, Eval Loss: 0.415183, Eval Acc: 0.903975\n",
      "epoch: 12, Train Loss: 0.431567, Train Acc: 0.898971, Eval Loss: 0.384170, Eval Acc: 0.900811\n",
      "epoch: 13, Train Loss: 0.376091, Train Acc: 0.912213, Eval Loss: 0.303689, Eval Acc: 0.924842\n",
      "epoch: 14, Train Loss: 0.355023, Train Acc: 0.918227, Eval Loss: 0.409749, Eval Acc: 0.911096\n",
      "epoch: 15, Train Loss: 0.426591, Train Acc: 0.900936, Eval Loss: 0.374853, Eval Acc: 0.906744\n",
      "epoch: 16, Train Loss: 0.505670, Train Acc: 0.880514, Eval Loss: 1.947942, Eval Acc: 0.415941\n",
      "epoch: 17, Train Loss: 2.038925, Train Acc: 0.277885, Eval Loss: 1.935585, Eval Acc: 0.243770\n",
      "epoch: 18, Train Loss: 2.034863, Train Acc: 0.223514, Eval Loss: 2.123630, Eval Acc: 0.254450\n",
      "epoch: 19, Train Loss: 2.008669, Train Acc: 0.202492, Eval Loss: 1.898375, Eval Acc: 0.229628\n"
     ]
    }
   ],
   "source": [
    "# 开始训练\n",
    "losses = []\n",
    "acces = []\n",
    "eval_losses = []\n",
    "eval_acces = []\n",
    "\n",
    "for e in range(20):\n",
    "    train_loss = 0\n",
    "    train_acc = 0\n",
    "    net.train()\n",
    "    for im, label in train_data:\n",
    "        im = Variable(im)\n",
    "        label = Variable(label)\n",
    "        # 前向传播\n",
    "        out = net(im)\n",
    "        loss = criterion(out, label)\n",
    "        # 反向传播\n",
    "        optimizer.zero_grad()\n",
    "        loss.backward()\n",
    "        optimizer.step()\n",
    "        # 记录误差\n",
    "        train_loss += loss.item()\n",
    "        # 计算分类的准确率\n",
    "        _, pred = out.max(1)\n",
    "        num_correct = (pred == label).sum().item()\n",
    "        acc = num_correct / im.shape[0]\n",
    "        train_acc += acc\n",
    "        \n",
    "    losses.append(train_loss / len(train_data))\n",
    "    acces.append(train_acc / len(train_data))\n",
    "    # 在测试集上检验效果\n",
    "    eval_loss = 0\n",
    "    eval_acc = 0\n",
    "    net.eval() # 将模型改为预测模式\n",
    "    for im, label in test_data:\n",
    "        im = Variable(im)\n",
    "        label = Variable(label)\n",
    "        out = net(im)\n",
    "        loss = criterion(out, label)\n",
    "        # 记录误差\n",
    "        eval_loss += loss.item()\n",
    "        # 记录准确率\n",
    "        _, pred = out.max(1)\n",
    "        num_correct = (pred == label).sum().item()\n",
    "        acc = num_correct / im.shape[0]\n",
    "        eval_acc += acc\n",
    "        \n",
    "    eval_losses.append(eval_loss / len(test_data))\n",
    "    eval_acces.append(eval_acc / len(test_data))\n",
    "    print('epoch: {}, Train Loss: {:.6f}, Train Acc: {:.6f}, Eval Loss: {:.6f}, Eval Acc: {:.6f}'\n",
    "          .format(e, train_loss / len(train_data), train_acc / len(train_data), \n",
    "                     eval_loss / len(test_data), eval_acc / len(test_data)))"
   ]
  },
  {
   "cell_type": "code",
   "execution_count": 7,
   "metadata": {},
   "outputs": [
    {
     "data": {
      "text/plain": [
       "[<matplotlib.lines.Line2D at 0x195d0b4cac8>]"
      ]
     },
     "execution_count": 7,
     "metadata": {},
     "output_type": "execute_result"
    },
    {
     "data": {
      "image/png": "[encoded data removed]",
      "text/plain": [
       "<Figure size 432x288 with 1 Axes>"
      ]
     },
     "metadata": {},
     "output_type": "display_data"
    }
   ],
   "source": [
    "# 画出loss 曲线和准确率曲线\n",
    "import matplotlib.pyplot as plt\n",
    "%matplotlib inline\n",
    "\n",
    "plt.title('train loss')\n",
    "plt.plot(np.arange(len(losses)), losses)"
   ]
  },
  {
   "cell_type": "code",
   "execution_count": 8,
   "metadata": {},
   "outputs": [
    {
     "data": {
      "text/plain": [
       "Text(0.5,1,'train acc')"
      ]
     },
     "execution_count": 8,
     "metadata": {},
     "output_type": "execute_result"
    },
    {
     "data": {
      "image/png": "[encoded data removed]",
      "text/plain": [
       "<Figure size 432x288 with 1 Axes>"
      ]
     },
     "metadata": {},
     "output_type": "display_data"
    }
   ],
   "source": [
    "plt.plot(np.arange(len(acces)), acces)\n",
    "plt.title('train acc')"
   ]
  },
  {
   "cell_type": "code",
   "execution_count": 9,
   "metadata": {},
   "outputs": [
    {
     "data": {
      "text/plain": [
       "Text(0.5,1,'test loss')"
      ]
     },
     "execution_count": 9,
     "metadata": {},
     "output_type": "execute_result"
    },
    {
     "data": {
      "image/png": "[encoded data removed]",
      "text/plain": [
       "<Figure size 432x288 with 1 Axes>"
      ]
     },
     "metadata": {},
     "output_type": "display_data"
    }
   ],
   "source": [
    "plt.plot(np.arange(len(eval_losses)), eval_losses)\n",
    "plt.title('test loss')"
   ]
  },
  {
   "cell_type": "code",
   "execution_count": 10,
   "metadata": {},
   "outputs": [
    {
     "data": {
      "text/plain": [
       "Text(0.5,1,'test acc')"
      ]
     },
     "execution_count": 10,
     "metadata": {},
     "output_type": "execute_result"
    },
    {
     "data": {
      "image/png": "[encoded data removed]",
      "text/plain": [
       "<Figure size 432x288 with 1 Axes>"
      ]
     },
     "metadata": {},
     "output_type": "display_data"
    }
   ],
   "source": [
    "plt.plot(np.arange(len(eval_acces)), eval_acces)\n",
    "plt.title('test acc')"
   ]
  },
  {
   "cell_type": "markdown",
   "metadata": {},
   "source": [
    "# 多层全连接神经网络实现MNIST手写数字识别"
   ]
  },
  {
   "cell_type": "code",
   "execution_count": 11,
   "metadata": {},
   "outputs": [],
   "source": [
    "# 定义简单的三层全连接神经网络\n",
    "class simpleNet(nn.Module):\n",
    "    def __init__(self, in_dim, n_hidden_1, n_hidden_2, out_dim):\n",
    "        super(simpleNet, self).__init__()\n",
    "        self.layer1 = nn.Linear(in_dim, n_hidden_1)\n",
    "        self.layer2 = nn.Linear(n_hidden_1, n_hidden_2)\n",
    "        self.layer3 = nn.Linear(n_hidden_2, out_dim)\n",
    "        \n",
    "    def forward(self, x):\n",
    "        x = self.layer1(x)\n",
    "        x = self.layer2(x)\n",
    "        x = self.layer3(x)\n",
    "        return x"
   ]
  },
  {
   "cell_type": "code",
   "execution_count": 28,
   "metadata": {},
   "outputs": [],
   "source": [
    "# 改进以下simpleNet ， 添加激活函数增加网络的非线性\n",
    "class Activation_Net(nn.Module):\n",
    "    def __init__(self, in_dim, n_hidden_1, n_hidden_2, out_dim):\n",
    "        super(Activation_Net, self).__init__()\n",
    "        self.layer1 = nn.Sequential(\n",
    "            nn.Linear(in_dim, n_hidden_1), nn.ReLU(True))\n",
    "        self.layer2 = nn.Sequential(\n",
    "            nn.Linear(n_hidden_1, n_hidden_2), nn.ReLU(True))\n",
    "        self.layer3 = nn.Sequential(\n",
    "            nn.Linear(n_hidden_2, out_dim))\n",
    "        \n",
    "    def forward(self, x):\n",
    "        x = self.layer1(x)\n",
    "        x = self.layer2(x)\n",
    "        x = self.layer3(x)\n",
    "        return x"
   ]
  },
  {
   "cell_type": "code",
   "execution_count": 29,
   "metadata": {},
   "outputs": [],
   "source": [
    "# 改进Activation_Net   添加批标准化\n",
    "class Batch_Net(nn.Module):\n",
    "    def __init__(self, in_dim, n_hidden_1, n_hidden_2, out_dim):\n",
    "        super(Batch_Net, self).__init__()\n",
    "        self.layer1 = nn.Sequential(\n",
    "            nn.Linear(in_dim, n_hidden_1), nn.BatchNorm1d(n_hidden_1), nn.ReLU(True))\n",
    "        self.layer2 = nn.Sequential(\n",
    "            nn.Linear(n_hidden_1, n_hidden_2), nn.BatchNorm1d(n_hidden_2), nn.ReLU(True))\n",
    "        self.layer3 = nn.Sequential(\n",
    "            nn.Linear(n_hidden_2, out_dim))\n",
    "        \n",
    "    def forward(self, x):\n",
    "        x = self.layer1(x)\n",
    "        x = self.layer2(x)\n",
    "        x = self.layer3(x)\n",
    "        return x"
   ]
  },
  {
   "cell_type": "code",
   "execution_count": 15,
   "metadata": {},
   "outputs": [],
   "source": [
    "# 训练网络，  导入相关包\n",
    "import torch\n",
    "from torch import nn, optim\n",
    "from torch.autograd import Variable\n",
    "from torch.utils.data import DataLoader\n",
    "from torchvision import datasets, transforms\n",
    "\n",
    "\n",
    "# 超参数\n",
    "batch_size = 64\n",
    "learning_rate = 1e-2\n",
    "num_epoches = 20\n",
    "\n",
    "# 数据增强\n",
    "data_tf = transforms.Compose(\n",
    "    [transforms.ToTensor(), transforms.Normalize([0.5],[0.5])])  # Compose()将各种预处理操作组合在一起，Normalize（[0.5,0.5]）表示减去0.5再除以0.5  这样图片转化到了 -1~1 之间\n"
   ]
  },
  {
   "cell_type": "code",
   "execution_count": 16,
   "metadata": {},
   "outputs": [],
   "source": [
    "# 下载训练集MNIST手写数字训练集\n",
    "train_dataset = datasets.MNIST(root='data/', train=True, transform=data_tf, download=True)\n",
    "test_dataset = datasets.MNIST(root='data/', train=False, transform=data_tf, download=True)\n",
    "# 使用pytorch自带的DataLoader 定义一个数据迭代器\n",
    "train_loader = DataLoader(train_dataset, batch_size=batch_size, shuffle=True)\n",
    "test_loader = DataLoader(test_dataset, batch_size=batch_size, shuffle=False)"
   ]
  },
  {
   "cell_type": "code",
   "execution_count": 17,
   "metadata": {},
   "outputs": [],
   "source": [
    "# 接入网络，定义损失函数和方法\n",
    "model = simpleNet(28*28, 300, 100, 10)\n",
    "if torch.cuda.is_available():\n",
    "    model = model.cuda()\n",
    "\n",
    "# 定义损失函数 和 优化器\n",
    "criterion = nn.CrossEntropyLoss()\n",
    "optimizer = optim.SGD(model.parameters(), lr=learning_rate)"
   ]
  },
  {
   "cell_type": "code",
   "execution_count": 22,
   "metadata": {},
   "outputs": [
    {
     "name": "stderr",
     "output_type": "stream",
     "text": [
      "D:\\software\\Anaconda3\\lib\\site-packages\\ipykernel_launcher.py:47: UserWarning: volatile was removed and now has no effect. Use `with torch.no_grad():` instead.\n",
      "D:\\software\\Anaconda3\\lib\\site-packages\\ipykernel_launcher.py:48: UserWarning: volatile was removed and now has no effect. Use `with torch.no_grad():` instead.\n"
     ]
    },
    {
     "name": "stdout",
     "output_type": "stream",
     "text": [
      "epoch: 0, Train Loss: 0.258387, Train Acc: 0.928238, Eval Loss: 0.276330, Eval Acc: 0.922074\n",
      "epoch: 1, Train Loss: 0.258261, Train Acc: 0.928755, Eval Loss: 0.275427, Eval Acc: 0.924264\n",
      "epoch: 2, Train Loss: 0.257798, Train Acc: 0.928072, Eval Loss: 0.274397, Eval Acc: 0.923865\n",
      "epoch: 3, Train Loss: 0.257445, Train Acc: 0.929005, Eval Loss: 0.279780, Eval Acc: 0.923169\n",
      "epoch: 4, Train Loss: 0.257058, Train Acc: 0.927805, Eval Loss: 0.277116, Eval Acc: 0.921775\n",
      "epoch: 5, Train Loss: 0.255906, Train Acc: 0.928455, Eval Loss: 0.277371, Eval Acc: 0.921178\n",
      "epoch: 6, Train Loss: 0.256636, Train Acc: 0.927905, Eval Loss: 0.276716, Eval Acc: 0.921676\n",
      "epoch: 7, Train Loss: 0.255472, Train Acc: 0.929138, Eval Loss: 0.272088, Eval Acc: 0.922273\n",
      "epoch: 8, Train Loss: 0.255903, Train Acc: 0.929021, Eval Loss: 0.269918, Eval Acc: 0.925259\n",
      "epoch: 9, Train Loss: 0.254921, Train Acc: 0.929104, Eval Loss: 0.271118, Eval Acc: 0.922174\n",
      "epoch: 10, Train Loss: 0.254601, Train Acc: 0.928721, Eval Loss: 0.274195, Eval Acc: 0.923069\n",
      "epoch: 11, Train Loss: 0.254646, Train Acc: 0.929138, Eval Loss: 0.275187, Eval Acc: 0.921079\n",
      "epoch: 12, Train Loss: 0.254267, Train Acc: 0.929221, Eval Loss: 0.271842, Eval Acc: 0.923766\n",
      "epoch: 13, Train Loss: 0.254438, Train Acc: 0.928988, Eval Loss: 0.272532, Eval Acc: 0.923069\n",
      "epoch: 14, Train Loss: 0.253616, Train Acc: 0.929288, Eval Loss: 0.273391, Eval Acc: 0.923766\n",
      "epoch: 15, Train Loss: 0.253594, Train Acc: 0.928638, Eval Loss: 0.276319, Eval Acc: 0.921975\n",
      "epoch: 16, Train Loss: 0.253206, Train Acc: 0.929288, Eval Loss: 0.270564, Eval Acc: 0.924064\n",
      "epoch: 17, Train Loss: 0.252555, Train Acc: 0.930687, Eval Loss: 0.277281, Eval Acc: 0.924264\n",
      "epoch: 18, Train Loss: 0.252963, Train Acc: 0.929871, Eval Loss: 0.276955, Eval Acc: 0.924861\n",
      "epoch: 19, Train Loss: 0.251910, Train Acc: 0.930404, Eval Loss: 0.275453, Eval Acc: 0.923567\n"
     ]
    }
   ],
   "source": [
    "# 训练网络\n",
    "losses = []\n",
    "acces = []\n",
    "eval_losses = []\n",
    "eval_acces = []\n",
    "n_epoch = 20\n",
    "\n",
    "for epoch in range(n_epoch):\n",
    "    train_loss = 0\n",
    "    train_acc = 0\n",
    "    model.train()\n",
    "    for data in train_loader:\n",
    "        img, label = data\n",
    "        img = img.view(img.size(0), -1)\n",
    "        if torch.cuda.is_available():\n",
    "            img = Variable(img).cuda()   # volatile 默认为false  表示推理模式  如果某一个variable的volatile属性被设为True，那么所有依赖它的节点volatile属性都为True。volatile属性为True的节点不会求导，volatile的优先级比requires_grad高。\n",
    "            label = Variable(label).cuda()\n",
    "        else:\n",
    "            img = Variable(img)\n",
    "            label = Variable(label)\n",
    "        \n",
    "        out = model(img)   # 前向传播\n",
    "        loss = criterion(out, label)   # 计算loss\n",
    "        \n",
    "        optimizer.zero_grad()   # 反向传播\n",
    "        loss.backward()\n",
    "        optimizer.step()\n",
    "        \n",
    "        train_loss += loss.item()   # 记录误差\n",
    "        _, pred = out.max(1)    #  返回每一行中最大值的那个元素，且返回其索引（返回最大元素在这一行的列索引） 参考https://blog.csdn.net/liuweiyuxiang/article/details/84668269\n",
    "        num_correct = (pred == label).sum().item()  # 每一次batch_size正确的个数\n",
    "        acc = num_correct / img.shape[0]\n",
    "        train_acc += acc\n",
    "#         train_acc += num_correct\n",
    "        \n",
    "    losses.append(train_loss / len(train_loader))\n",
    "    acces.append(train_acc / len(train_loader))\n",
    "    \n",
    "    # 在测试集检验效果\n",
    "    eval_loss = 0\n",
    "    eval_acc = 0\n",
    "    model.eval()\n",
    "    for data in test_loader:\n",
    "        img, label = data\n",
    "        img = img.view(img.size(0), -1)\n",
    "        if torch.cuda.is_available():\n",
    "            img = Variable(img, volatile=True).cuda()\n",
    "            label = Variable(label, volatile=True).cuda()\n",
    "        else:\n",
    "            img = Variable(img, volatile=True)\n",
    "            label = Variable(label, volatile=True)\n",
    "        # 前向传播\n",
    "        out = model(img)\n",
    "        loss = criterion(out, label)   # 计算损失\n",
    "        eval_loss += loss.item() \n",
    "        _, pred = out.max(1)\n",
    "        num_correct = (pred == label).sum().item()\n",
    "        acc = num_correct / img.shape[0]\n",
    "        eval_acc += acc\n",
    "#         eval_acc += num_correct\n",
    "        \n",
    "    eval_losses.append(eval_loss / len(test_data))\n",
    "    eval_acces.append(eval_acc / len(test_data))    \n",
    "    print('epoch: {}, Train Loss: {:.6f}, Train Acc: {:.6f}, Eval Loss: {:.6f}, Eval Acc: {:.6f}'\n",
    "          .format(epoch, train_loss / len(train_loader), train_acc / len(train_loader), \n",
    "                     eval_loss / len(test_loader), eval_acc / len(test_loader)))"
   ]
  },
  {
   "cell_type": "markdown",
   "metadata": {},
   "source": [
    "**画出loss曲线和准确率曲线**"
   ]
  },
  {
   "cell_type": "code",
   "execution_count": 40,
   "metadata": {},
   "outputs": [
    {
     "data": {
      "text/plain": [
       "[<matplotlib.lines.Line2D at 0x195a981a390>]"
      ]
     },
     "execution_count": 40,
     "metadata": {},
     "output_type": "execute_result"
    },
    {
     "data": {
      "image/png": "[encoded data removed]",
      "text/plain": [
       "<Figure size 432x288 with 1 Axes>"
      ]
     },
     "metadata": {},
     "output_type": "display_data"
    }
   ],
   "source": [
    "plt.title('train loss')\n",
    "plt.plot(np.arange(len(losses)), losses)"
   ]
  },
  {
   "cell_type": "code",
   "execution_count": 41,
   "metadata": {},
   "outputs": [
    {
     "data": {
      "text/plain": [
       "Text(0.5,1,'train acc')"
      ]
     },
     "execution_count": 41,
     "metadata": {},
     "output_type": "execute_result"
    },
    {
     "data": {
      "image/png": "[encoded data removed]",
      "text/plain": [
       "<Figure size 432x288 with 1 Axes>"
      ]
     },
     "metadata": {},
     "output_type": "display_data"
    }
   ],
   "source": [
    "plt.plot(np.arange(len(acces)), acces)\n",
    "plt.title('train acc')"
   ]
  },
  {
   "cell_type": "code",
   "execution_count": 42,
   "metadata": {},
   "outputs": [
    {
     "data": {
      "text/plain": [
       "Text(0.5,1,'test loss')"
      ]
     },
     "execution_count": 42,
     "metadata": {},
     "output_type": "execute_result"
    },
    {
     "data": {
      "image/png": "[encoded data removed]",
      "text/plain": [
       "<Figure size 432x288 with 1 Axes>"
      ]
     },
     "metadata": {},
     "output_type": "display_data"
    }
   ],
   "source": [
    "plt.plot(np.arange(len(eval_losses)), eval_losses)\n",
    "plt.title('test loss')"
   ]
  },
  {
   "cell_type": "code",
   "execution_count": 43,
   "metadata": {},
   "outputs": [
    {
     "data": {
      "text/plain": [
       "Text(0.5,1,'test acc')"
      ]
     },
     "execution_count": 43,
     "metadata": {},
     "output_type": "execute_result"
    },
    {
     "data": {
      "image/png": "[encoded data removed]",
      "text/plain": [
       "<Figure size 432x288 with 1 Axes>"
      ]
     },
     "metadata": {},
     "output_type": "display_data"
    }
   ],
   "source": [
    "plt.plot(np.arange(len(eval_acces)), eval_acces)\n",
    "plt.title('test acc')"
   ]
  },
  {
   "cell_type": "markdown",
   "metadata": {},
   "source": [
    "### simpleNet 准确率大概在 92+%\n",
    "### Activation_Net准确率大概在96+%    说明添加非激活函数 能增强准确率  相比上面增长4个百分点\n",
    "### Batch_Net准确率大概在 98+%  说明添加BatchNormalization能增加准确率      相比上面增长2个百分点"
   ]
  },
  {
   "cell_type": "code",
   "execution_count": 39,
   "metadata": {},
   "outputs": [
    {
     "name": "stderr",
     "output_type": "stream",
     "text": [
      "D:\\software\\Anaconda3\\lib\\site-packages\\ipykernel_launcher.py:56: UserWarning: volatile was removed and now has no effect. Use `with torch.no_grad():` instead.\n",
      "D:\\software\\Anaconda3\\lib\\site-packages\\ipykernel_launcher.py:57: UserWarning: volatile was removed and now has no effect. Use `with torch.no_grad():` instead.\n"
     ]
    },
    {
     "name": "stdout",
     "output_type": "stream",
     "text": [
      "epoch: 0, Train Loss: 0.713218, Train Acc: 0.857959, Eval Loss: 0.262741, Eval Acc: 0.941779\n",
      "epoch: 1, Train Loss: 0.232855, Train Acc: 0.943813, Eval Loss: 0.153120, Eval Acc: 0.962281\n",
      "epoch: 2, Train Loss: 0.156382, Train Acc: 0.960954, Eval Loss: 0.118498, Eval Acc: 0.968551\n",
      "epoch: 3, Train Loss: 0.118116, Train Acc: 0.969883, Eval Loss: 0.100358, Eval Acc: 0.971935\n",
      "epoch: 4, Train Loss: 0.097089, Train Acc: 0.975247, Eval Loss: 0.088547, Eval Acc: 0.974522\n",
      "epoch: 5, Train Loss: 0.079978, Train Acc: 0.978928, Eval Loss: 0.082442, Eval Acc: 0.976811\n",
      "epoch: 6, Train Loss: 0.067664, Train Acc: 0.981943, Eval Loss: 0.075063, Eval Acc: 0.978006\n",
      "epoch: 7, Train Loss: 0.057499, Train Acc: 0.985924, Eval Loss: 0.074901, Eval Acc: 0.977707\n",
      "epoch: 8, Train Loss: 0.050776, Train Acc: 0.987557, Eval Loss: 0.073573, Eval Acc: 0.978105\n",
      "epoch: 9, Train Loss: 0.044689, Train Acc: 0.989372, Eval Loss: 0.071386, Eval Acc: 0.978006\n",
      "epoch: 10, Train Loss: 0.039428, Train Acc: 0.990555, Eval Loss: 0.066743, Eval Acc: 0.979001\n",
      "epoch: 11, Train Loss: 0.035313, Train Acc: 0.991588, Eval Loss: 0.066453, Eval Acc: 0.980494\n",
      "epoch: 12, Train Loss: 0.032010, Train Acc: 0.992471, Eval Loss: 0.066496, Eval Acc: 0.979896\n",
      "epoch: 13, Train Loss: 0.027715, Train Acc: 0.993837, Eval Loss: 0.062613, Eval Acc: 0.980096\n",
      "epoch: 14, Train Loss: 0.025564, Train Acc: 0.994570, Eval Loss: 0.063778, Eval Acc: 0.979896\n",
      "epoch: 15, Train Loss: 0.024385, Train Acc: 0.994786, Eval Loss: 0.063137, Eval Acc: 0.979996\n",
      "epoch: 16, Train Loss: 0.021692, Train Acc: 0.995369, Eval Loss: 0.066645, Eval Acc: 0.979697\n",
      "epoch: 17, Train Loss: 0.020238, Train Acc: 0.995436, Eval Loss: 0.066152, Eval Acc: 0.980096\n",
      "epoch: 18, Train Loss: 0.017814, Train Acc: 0.996568, Eval Loss: 0.065252, Eval Acc: 0.978603\n",
      "epoch: 19, Train Loss: 0.015510, Train Acc: 0.997468, Eval Loss: 0.060834, Eval Acc: 0.979996\n"
     ]
    }
   ],
   "source": [
    "# 接入网络，定义损失函数和方法\n",
    "model = Batch_Net(28*28, 300, 100, 10)\n",
    "if torch.cuda.is_available():\n",
    "    model = model.cuda()\n",
    "\n",
    "# 定义损失函数 和 优化器\n",
    "criterion = nn.CrossEntropyLoss()\n",
    "optimizer = optim.SGD(model.parameters(), lr=learning_rate)\n",
    "\n",
    "# 训练网络\n",
    "losses = []\n",
    "acces = []\n",
    "eval_losses = []\n",
    "eval_acces = []\n",
    "n_epoch = 20\n",
    "\n",
    "for epoch in range(n_epoch):\n",
    "    train_loss = 0\n",
    "    train_acc = 0\n",
    "    model.train()\n",
    "    for data in train_loader:\n",
    "        img, label = data\n",
    "        img = img.view(img.size(0), -1)\n",
    "        if torch.cuda.is_available():\n",
    "            img = Variable(img).cuda()   # volatile 默认为false  表示推理模式  如果某一个variable的volatile属性被设为True，那么所有依赖它的节点volatile属性都为True。volatile属性为True的节点不会求导，volatile的优先级比requires_grad高。\n",
    "            label = Variable(label).cuda()\n",
    "        else:\n",
    "            img = Variable(img)\n",
    "            label = Variable(label)\n",
    "        \n",
    "        out = model(img)   # 前向传播\n",
    "        loss = criterion(out, label)   # 计算loss\n",
    "        \n",
    "        optimizer.zero_grad()   # 反向传播\n",
    "        loss.backward()\n",
    "        optimizer.step()\n",
    "        \n",
    "        train_loss += loss.item()   # 记录误差\n",
    "        _, pred = out.max(1)    #  返回每一行中最大值的那个元素，且返回其索引（返回最大元素在这一行的列索引） 参考https://blog.csdn.net/liuweiyuxiang/article/details/84668269\n",
    "        num_correct = (pred == label).sum().item()  # 每一次batch_size正确的个数\n",
    "        acc = num_correct / img.shape[0]\n",
    "        train_acc += acc\n",
    "#         train_acc += num_correct\n",
    "        \n",
    "    losses.append(train_loss / len(train_loader))\n",
    "    acces.append(train_acc / len(train_loader))\n",
    "    \n",
    "    # 在测试集检验效果\n",
    "    eval_loss = 0\n",
    "    eval_acc = 0\n",
    "    model.eval()\n",
    "    for data in test_loader:\n",
    "        img, label = data\n",
    "        img = img.view(img.size(0), -1)\n",
    "        if torch.cuda.is_available():\n",
    "            img = Variable(img, volatile=True).cuda()\n",
    "            label = Variable(label, volatile=True).cuda()\n",
    "        else:\n",
    "            img = Variable(img, volatile=True)\n",
    "            label = Variable(label, volatile=True)\n",
    "        # 前向传播\n",
    "        out = model(img)\n",
    "        loss = criterion(out, label)   # 计算损失\n",
    "        eval_loss += loss.item() \n",
    "        _, pred = out.max(1)\n",
    "        num_correct = (pred == label).sum().item()\n",
    "        acc = num_correct / img.shape[0]\n",
    "        eval_acc += acc\n",
    "#         eval_acc += num_correct\n",
    "        \n",
    "    eval_losses.append(eval_loss / len(test_data))\n",
    "    eval_acces.append(eval_acc / len(test_data))    \n",
    "    print('epoch: {}, Train Loss: {:.6f}, Train Acc: {:.6f}, Eval Loss: {:.6f}, Eval Acc: {:.6f}'\n",
    "          .format(epoch, train_loss / len(train_loader), train_acc / len(train_loader), \n",
    "                     eval_loss / len(test_loader), eval_acc / len(test_loader)))"
   ]
  },
  {
   "cell_type": "code",
   "execution_count": null,
   "metadata": {},
   "outputs": [],
   "source": []
  }
 ],
 "metadata": {
  "kernelspec": {
   "display_name": "Python 3",
   "language": "python",
   "name": "python3"
  },
  "language_info": {
   "codemirror_mode": {
    "name": "ipython",
    "version": 3
   },
   "file_extension": ".py",
   "mimetype": "text/x-python",
   "name": "python",
   "nbconvert_exporter": "python",
   "pygments_lexer": "ipython3",
   "version": "3.6.5"
  }
 },
 "nbformat": 4,
 "nbformat_minor": 2
}
