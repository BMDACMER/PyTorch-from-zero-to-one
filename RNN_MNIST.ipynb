{
 "cells": [
  {
   "cell_type": "markdown",
   "metadata": {},
   "source": [
    "# RNN 做图像分类\n",
    "前面我们讲了 RNN 特别适合做序列类型的数据，那么 RNN 能不能想 CNN 一样用来做图像分类呢？下面我们用 mnist 手写字体的例子来展示一下如何用 RNN 做图像分类，但是这种方法并不是主流，这里我们只是作为举例。"
   ]
  },
  {
   "cell_type": "code",
   "execution_count": 1,
   "metadata": {},
   "outputs": [],
   "source": [
    "import torch\n",
    "import torch.nn as nn\n",
    "from torch.autograd import Variable\n",
    "from torch.utils.data import DataLoader\n",
    "\n",
    "from torchvision import transforms as tfs\n",
    "from torchvision.datasets import MNIST"
   ]
  },
  {
   "cell_type": "code",
   "execution_count": 2,
   "metadata": {},
   "outputs": [],
   "source": [
    "# 定义数据\n",
    "data_tf = tfs.Compose([\n",
    "    tfs.ToTensor(),\n",
    "    tfs.Normalize([0.5], [0.5])   # 标准化\n",
    "])\n",
    "\n",
    "train_set = MNIST('data/', train=True, transform=data_tf)\n",
    "test_set = MNIST('data', train=False, transform=data_tf)\n",
    "\n",
    "train_data = DataLoader(train_set, 64, shuffle=True, num_workers=4)\n",
    "test_data = DataLoader(test_set, 128, shuffle=False, num_workers=4)"
   ]
  },
  {
   "cell_type": "code",
   "execution_count": 3,
   "metadata": {},
   "outputs": [],
   "source": [
    "# 定义模型\n",
    "class rnn_classify(nn.Module):\n",
    "    def __init__(self, in_feature=28, hidden_feature=100, num_class=10, num_layers=2):\n",
    "        super(rnn_classify, self).__init__()\n",
    "        self.rnn = nn.LSTM(in_feature, hidden_feature, num_layers)      # 使用两层 lstm\n",
    "        self.classifier = nn.Linear(hidden_feature, num_class)   # 将最后一个rnn 的输出使用全连接得到最后的分类结果\n",
    "        \n",
    "    def forward(self, x):\n",
    "        '''\n",
    "        x 大小为 (batch, 1, 28, 28)，所以我们需要将其转换成 RNN 的输入形式，即 (28, batch, 28)\n",
    "        '''\n",
    "        x = x.squeeze() # 去掉 (batch, 1, 28, 28) 中的 1，变成 (batch, 28, 28)\n",
    "        x = x.permute(2, 0, 1) # 将最后一维放到第一维，变成 (28, batch, 28)  相当于x.transpose()\n",
    "        out, _ = self.rnn(x) # 使用默认的隐藏状态，得到的 out 是 (28, batch, hidden_feature)\n",
    "        out = out[-1, :, :] # 取序列中的最后一个，大小是 (batch, hidden_feature)\n",
    "        out = self.classifier(out) # 得到分类结果\n",
    "        return out"
   ]
  },
  {
   "cell_type": "code",
   "execution_count": 5,
   "metadata": {},
   "outputs": [],
   "source": [
    "# 调用模型\n",
    "net = rnn_classify()\n",
    "criterion = nn.CrossEntropyLoss()\n",
    "optimizer = torch.optim.Adadelta(net.parameters(), 0.1)"
   ]
  },
  {
   "cell_type": "code",
   "execution_count": 7,
   "metadata": {
    "scrolled": true
   },
   "outputs": [
    {
     "name": "stderr",
     "output_type": "stream",
     "text": [
      "E:\\dev\\Jupyter\\深度学习入门之PyTorch\\PyTorch-from-zero-to-one\\utils.py:52: UserWarning: volatile was removed and now has no effect. Use `with torch.no_grad():` instead.\n",
      "  im = Variable(im.cuda(), volatile=True)\n",
      "E:\\dev\\Jupyter\\深度学习入门之PyTorch\\PyTorch-from-zero-to-one\\utils.py:53: UserWarning: volatile was removed and now has no effect. Use `with torch.no_grad():` instead.\n",
      "  label = Variable(label.cuda(), volatile=True)\n"
     ]
    },
    {
     "name": "stdout",
     "output_type": "stream",
     "text": [
      "Epoch 1. Train Loss: 0.056684, Train Acc: 0.982526, Valid Loss: 0.065243, Valid Acc: 0.980123, Time 00:00:12\n",
      "Epoch 2. Train Loss: 0.050928, Train Acc: 0.984542, Valid Loss: 0.069091, Valid Acc: 0.979035, Time 00:00:13\n",
      "Epoch 3. Train Loss: 0.046779, Train Acc: 0.985241, Valid Loss: 0.068747, Valid Acc: 0.980024, Time 00:00:13\n",
      "Epoch 4. Train Loss: 0.043971, Train Acc: 0.986257, Valid Loss: 0.055970, Valid Acc: 0.983188, Time 00:00:13\n",
      "Epoch 5. Train Loss: 0.039695, Train Acc: 0.987673, Valid Loss: 0.057191, Valid Acc: 0.983485, Time 00:00:13\n",
      "Epoch 6. Train Loss: 0.036519, Train Acc: 0.988806, Valid Loss: 0.058995, Valid Acc: 0.982002, Time 00:00:14\n",
      "Epoch 7. Train Loss: 0.033205, Train Acc: 0.989972, Valid Loss: 0.056425, Valid Acc: 0.982496, Time 00:00:13\n",
      "Epoch 8. Train Loss: 0.032026, Train Acc: 0.990089, Valid Loss: 0.057818, Valid Acc: 0.983188, Time 00:00:13\n",
      "Epoch 9. Train Loss: 0.028377, Train Acc: 0.990988, Valid Loss: 0.055412, Valid Acc: 0.983782, Time 00:00:13\n",
      "Epoch 10. Train Loss: 0.026040, Train Acc: 0.991838, Valid Loss: 0.055760, Valid Acc: 0.984177, Time 00:00:13\n"
     ]
    }
   ],
   "source": [
    "# 开始训练\n",
    "from utils import train\n",
    "train(net, train_data, test_data, 10, optimizer, criterion)"
   ]
  },
  {
   "cell_type": "markdown",
   "metadata": {},
   "source": [
    "可以看到，训练 10 次在简单的 mnist 数据集上也取得的了 98% 的准确率，所以说 RNN 也可以做做简单的图像分类，但是这并不是他的主战场，下次课我们会讲到 RNN 的一个使用场景，时间序列预测。"
   ]
  },
  {
   "cell_type": "code",
   "execution_count": null,
   "metadata": {},
   "outputs": [],
   "source": []
  }
 ],
 "metadata": {
  "kernelspec": {
   "display_name": "Python 3",
   "language": "python",
   "name": "python3"
  },
  "language_info": {
   "codemirror_mode": {
    "name": "ipython",
    "version": 3
   },
   "file_extension": ".py",
   "mimetype": "text/x-python",
   "name": "python",
   "nbconvert_exporter": "python",
   "pygments_lexer": "ipython3",
   "version": "3.6.5"
  }
 },
 "nbformat": 4,
 "nbformat_minor": 2
}
