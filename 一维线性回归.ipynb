{
 "cells": [
  {
   "cell_type": "markdown",
   "metadata": {},
   "source": [
    "### 参考课本P35"
   ]
  },
  {
   "cell_type": "code",
   "execution_count": 1,
   "metadata": {},
   "outputs": [
    {
     "data": {
      "text/plain": [
       "<torch._C.Generator at 0x1aab7c36730>"
      ]
     },
     "execution_count": 1,
     "metadata": {},
     "output_type": "execute_result"
    }
   ],
   "source": [
    "import torch\n",
    "import numpy as np\n",
    "from torch.autograd import Variable\n",
    "\n",
    "torch.manual_seed(2019)   #  用于生成随机数"
   ]
  },
  {
   "cell_type": "code",
   "execution_count": 5,
   "metadata": {},
   "outputs": [
    {
     "name": "stdout",
     "output_type": "stream",
     "text": [
      "tensor([0., 0.], device='cuda:0')\n",
      "True\n"
     ]
    }
   ],
   "source": [
    "torch.cuda.is_available()    # 判断是否支持GPU\n",
    "a = Variable(torch.Tensor(2))\n",
    "b = Variable(torch.Tensor(2))\n",
    "c = a * b\n",
    "if torch.cuda.is_available():\n",
    "    c_cuda = c.cuda()\n",
    "    print(c_cuda)\n",
    "\n",
    "print(torch.cuda.is_available())"
   ]
  },
  {
   "cell_type": "code",
   "execution_count": 6,
   "metadata": {},
   "outputs": [],
   "source": [
    "# 读入数据\n",
    "x_train = np.array([[3.3], [4.4], [5.5], [6.71], [6.93], [4.168],\n",
    "                    [9.779], [6.182], [7.59], [2.167], [7.042],\n",
    "                    [10.791], [5.313], [7.997], [3.1]], dtype=np.float32)\n",
    "\n",
    "y_train = np.array([[1.7], [2.76], [2.09], [3.19], [1.694], [1.573],\n",
    "                    [3.366], [2.596], [2.53], [1.221], [2.827],\n",
    "                    [3.465], [1.65], [2.904], [1.3]], dtype=np.float32)"
   ]
  },
  {
   "cell_type": "code",
   "execution_count": 8,
   "metadata": {},
   "outputs": [
    {
     "data": {
      "text/plain": [
       "[<matplotlib.lines.Line2D at 0x1aa90a19588>]"
      ]
     },
     "execution_count": 8,
     "metadata": {},
     "output_type": "execute_result"
    },
    {
     "data": {
      "image/png": "[encoded data removed]",
      "text/plain": [
       "<Figure size 432x288 with 1 Axes>"
      ]
     },
     "metadata": {},
     "output_type": "display_data"
    }
   ],
   "source": [
    "# 画出数据\n",
    "import matplotlib.pyplot as plt\n",
    "%matplotlib inline\n",
    "\n",
    "plt.plot(x_train, y_train, 'bo')"
   ]
  },
  {
   "cell_type": "code",
   "execution_count": 9,
   "metadata": {},
   "outputs": [],
   "source": [
    "# 转化成Tensor\n",
    "x_train = torch.from_numpy(x_train)\n",
    "y_train = torch.from_numpy(y_train)\n",
    "\n",
    "# 定义参数 w 和 b\n",
    "w = Variable(torch.randn(1), requires_grad=True)   # 随机初始化   randn 返回一个张量 这里为1   服从标准正态分布（均值为0，方差为1）\n",
    "                                                    # rand（）为均匀分布  返回一个张量\n",
    "b = Variable(torch.zeros(1), requires_grad=True)    # 使用0 进行初始化"
   ]
  },
  {
   "cell_type": "code",
   "execution_count": 10,
   "metadata": {},
   "outputs": [],
   "source": [
    "# 构建线性回归模型\n",
    "x_train = Variable(x_train)\n",
    "y_train = Variable(y_train)\n",
    "\n",
    "def linear_model(x):\n",
    "    return x * w + b"
   ]
  },
  {
   "cell_type": "code",
   "execution_count": 11,
   "metadata": {},
   "outputs": [],
   "source": [
    "y_ = linear_model(x_train)"
   ]
  },
  {
   "cell_type": "code",
   "execution_count": 13,
   "metadata": {},
   "outputs": [
    {
     "data": {
      "text/plain": [
       "<matplotlib.legend.Legend at 0x1aa90ae0b38>"
      ]
     },
     "execution_count": 13,
     "metadata": {},
     "output_type": "execute_result"
    },
    {
     "data": {
      "image/png": "[encoded data removed]",
      "text/plain": [
       "<Figure size 432x288 with 1 Axes>"
      ]
     },
     "metadata": {},
     "output_type": "display_data"
    }
   ],
   "source": [
    "# 以上已经定义好模型，在进行参数更新之前，可以看看模型的输出结果\n",
    "plt.plot(x_train.data.numpy(), y_train.data.numpy(), 'bo', label='real')   # 注意这里x_train.data.numoy()  因为上面已经将x_train转为tensor了  故此处需要注意\n",
    "plt.plot(x_train.data.numpy(), y_.data.numpy(), 'ro', label='estimated')\n",
    "plt.legend()"
   ]
  },
  {
   "cell_type": "code",
   "execution_count": 14,
   "metadata": {},
   "outputs": [
    {
     "name": "stdout",
     "output_type": "stream",
     "text": [
      "loss =  tensor(10.2335, grad_fn=<MeanBackward0>)\n"
     ]
    }
   ],
   "source": [
    "# 计算误差\n",
    "def get_loss(y_train, y_):\n",
    "    return torch.mean((y_-y_train) ** 2)\n",
    "\n",
    "loss = get_loss(y_train, y_)\n",
    "# 打印loss大小\n",
    "print(\"loss = \", loss)"
   ]
  },
  {
   "cell_type": "code",
   "execution_count": 15,
   "metadata": {},
   "outputs": [
    {
     "name": "stdout",
     "output_type": "stream",
     "text": [
      "w =  tensor([-41.1289]) \t b= tensor([-6.0890])\n"
     ]
    }
   ],
   "source": [
    "loss.backward()    # 自动求导\n",
    "print(\"w = \",w.grad,\"\\t b=\",b.grad)"
   ]
  },
  {
   "cell_type": "code",
   "execution_count": 16,
   "metadata": {},
   "outputs": [],
   "source": [
    "#更新以此参数\n",
    "w.data = w.data - 1e-2 * w.grad.data\n",
    "b.data = b.data - 1e-2 * b.grad.data"
   ]
  },
  {
   "cell_type": "code",
   "execution_count": 17,
   "metadata": {},
   "outputs": [
    {
     "data": {
      "text/plain": [
       "<matplotlib.legend.Legend at 0x1aa90b48908>"
      ]
     },
     "execution_count": 17,
     "metadata": {},
     "output_type": "execute_result"
    },
    {
     "data": {
      "image/png": "[encoded data removed]",
      "text/plain": [
       "<Figure size 432x288 with 1 Axes>"
      ]
     },
     "metadata": {},
     "output_type": "display_data"
    }
   ],
   "source": [
    "# 更新完参数后，再一次看看模型输出的结果\n",
    "y_ = linear_model(x_train)\n",
    "plt.plot(x_train.data.numpy(), y_train.data.numpy(), 'bo', label='real')\n",
    "plt.plot(x_train.data.numpy(), y_.data.numpy(), 'ro', label='estimated')\n",
    "plt.legend()"
   ]
  },
  {
   "cell_type": "markdown",
   "metadata": {},
   "source": [
    "从上面的例子可以看到，更新之后红色的线跑到了蓝色的线下面，没有特别好的拟合蓝色的真实值，所以我们需要在进行几次更新"
   ]
  },
  {
   "cell_type": "code",
   "execution_count": 25,
   "metadata": {},
   "outputs": [
    {
     "name": "stdout",
     "output_type": "stream",
     "text": [
      "0\n",
      "loss =  0.21941708\n",
      "1\n",
      "loss =  0.21915798\n",
      "2\n",
      "loss =  0.21890026\n",
      "3\n",
      "loss =  0.21864381\n",
      "4\n",
      "loss =  0.21838875\n",
      "5\n",
      "loss =  0.21813494\n",
      "6\n",
      "loss =  0.21788245\n",
      "7\n",
      "loss =  0.2176313\n",
      "8\n",
      "loss =  0.21738137\n",
      "9\n",
      "loss =  0.21713276\n"
     ]
    }
   ],
   "source": [
    "for e in range(10):    \n",
    "    y_ = linear_model(x_train)\n",
    "    loss = get_loss(y_train, y_)\n",
    "    \n",
    "    w.grad.zero_()     # 记得归零梯度\n",
    "    b.grad.zero_()\n",
    "    loss.backward()\n",
    "    \n",
    "    w.data = w.data - 1e-2 * w.grad.data   # 更新w\n",
    "    b.data = b.data - 1e-2 * b.grad.data   # 更新b\n",
    "    print(e)\n",
    "    print(\"loss = \",loss.data.numpy())\n",
    "#     print('epoch: {}, loss: {}'.format(e, loss.data[0]))"
   ]
  },
  {
   "cell_type": "code",
   "execution_count": 26,
   "metadata": {},
   "outputs": [
    {
     "data": {
      "text/plain": [
       "<matplotlib.legend.Legend at 0x1aa909ab940>"
      ]
     },
     "execution_count": 26,
     "metadata": {},
     "output_type": "execute_result"
    },
    {
     "data": {
      "image/png": "[encoded data removed]",
      "text/plain": [
       "<Figure size 432x288 with 1 Axes>"
      ]
     },
     "metadata": {},
     "output_type": "display_data"
    }
   ],
   "source": [
    "y_ = linear_model(x_train)\n",
    "plt.plot(x_train.data.numpy(), y_train.data.numpy(), 'bo', label='real')\n",
    "plt.plot(x_train.data.numpy(), y_.data.numpy(), 'ro', label='estimated')\n",
    "plt.legend()"
   ]
  },
  {
   "cell_type": "markdown",
   "metadata": {},
   "source": [
    "经过多次，我们发现红色的预测结果已经比较耗的拟合了蓝色的真实值"
   ]
  },
  {
   "cell_type": "markdown",
   "metadata": {},
   "source": [
    "# 2 建立模型，根据上一节PyTorch的基础知识，定义一个简单的模型"
   ]
  },
  {
   "cell_type": "code",
   "execution_count": 31,
   "metadata": {},
   "outputs": [],
   "source": [
    "# 导入相关包\n",
    "from torch import nn\n",
    "import torch\n",
    "from torch.autograd import Variable\n",
    "import numpy as np\n",
    "import matplotlib.pyplot as plt\n",
    "    "
   ]
  },
  {
   "cell_type": "code",
   "execution_count": 35,
   "metadata": {},
   "outputs": [
    {
     "data": {
      "image/png": "[encoded data removed]",
      "text/plain": [
       "<Figure size 432x288 with 1 Axes>"
      ]
     },
     "metadata": {},
     "output_type": "display_data"
    }
   ],
   "source": [
    "x = torch.unsqueeze(torch.linspace(-1, 1, 100), dim=1)   # 返回一个新的张量，对输入的指定位置插入维度1，\n",
    "                                                         # 返回张量与输入张量共享内存，若dim为负，则将被转化为dim+input.dim()+1\n",
    "y = 3*x + 10 + torch.rand(x.size())   #  这行代码是制造出接近y=3x+10的数据集，后面加上torch.rand()函数制造噪音\n",
    "\n",
    "# 画图\n",
    "plt.scatter(x.data.numpy(), y.data.numpy())   # 等价于 plt.plot(x.data.numpy(), y.data.numpy(), 'ro') \n",
    "plt.show()"
   ]
  },
  {
   "cell_type": "code",
   "execution_count": 39,
   "metadata": {},
   "outputs": [
    {
     "name": "stdout",
     "output_type": "stream",
     "text": [
      "Epoch[20/1000], loss:56.796856\n",
      "Epoch[40/1000], loss:25.979219\n",
      "Epoch[60/1000], loss:12.097287\n",
      "Epoch[80/1000], loss:5.798605\n",
      "Epoch[100/1000], loss:2.906412\n",
      "Epoch[120/1000], loss:1.552768\n",
      "Epoch[140/1000], loss:0.900284\n",
      "Epoch[160/1000], loss:0.572056\n",
      "Epoch[180/1000], loss:0.397286\n",
      "Epoch[200/1000], loss:0.297716\n",
      "Epoch[220/1000], loss:0.236841\n",
      "Epoch[240/1000], loss:0.197154\n",
      "Epoch[260/1000], loss:0.169908\n",
      "Epoch[280/1000], loss:0.150492\n",
      "Epoch[300/1000], loss:0.136302\n",
      "Epoch[320/1000], loss:0.125764\n",
      "Epoch[340/1000], loss:0.117861\n",
      "Epoch[360/1000], loss:0.111897\n",
      "Epoch[380/1000], loss:0.107382\n",
      "Epoch[400/1000], loss:0.103956\n",
      "Epoch[420/1000], loss:0.101352\n",
      "Epoch[440/1000], loss:0.099373\n",
      "Epoch[460/1000], loss:0.097867\n",
      "Epoch[480/1000], loss:0.096722\n",
      "Epoch[500/1000], loss:0.095850\n",
      "Epoch[520/1000], loss:0.095187\n",
      "Epoch[540/1000], loss:0.094682\n",
      "Epoch[560/1000], loss:0.094298\n",
      "Epoch[580/1000], loss:0.094006\n",
      "Epoch[600/1000], loss:0.093783\n",
      "Epoch[620/1000], loss:0.093614\n",
      "Epoch[640/1000], loss:0.093485\n",
      "Epoch[660/1000], loss:0.093387\n",
      "Epoch[680/1000], loss:0.093312\n",
      "Epoch[700/1000], loss:0.093255\n",
      "Epoch[720/1000], loss:0.093212\n",
      "Epoch[740/1000], loss:0.093179\n",
      "Epoch[760/1000], loss:0.093154\n",
      "Epoch[780/1000], loss:0.093135\n",
      "Epoch[800/1000], loss:0.093120\n",
      "Epoch[820/1000], loss:0.093109\n",
      "Epoch[840/1000], loss:0.093101\n",
      "Epoch[860/1000], loss:0.093094\n",
      "Epoch[880/1000], loss:0.093090\n",
      "Epoch[900/1000], loss:0.093086\n",
      "Epoch[920/1000], loss:0.093083\n",
      "Epoch[940/1000], loss:0.093081\n",
      "Epoch[960/1000], loss:0.093079\n",
      "Epoch[980/1000], loss:0.093078\n",
      "Epoch[1000/1000], loss:0.093077\n"
     ]
    }
   ],
   "source": [
    "# 定义线性回归\n",
    "class LinearRegression(nn.Module):\n",
    "    def __init__(self):\n",
    "        super(LinearRegression, self).__init__()\n",
    "        self.linear = nn.Linear(1, 1)   # 输入和输出的维度都是1\n",
    "        \n",
    "    def forward(self, x):\n",
    "        out = self.linear(x)\n",
    "        return out\n",
    "    \n",
    "if torch.cuda.is_available():\n",
    "    model = LinearRegression().cuda()\n",
    "else:\n",
    "    model = LinearRegression()\n",
    "    \n",
    "criterion = nn.MSELoss()   # 定义损失函数\n",
    "optimizer = torch.optim.SGD(model.parameters(), lr=1e-2)\n",
    "\n",
    "num_epochs = 1000\n",
    "for epoch in range(num_epochs):\n",
    "    if torch.cuda.is_available():\n",
    "        inputs = Variable(x).cuda()\n",
    "        target = Variable(y).cuda()\n",
    "    else:\n",
    "        inputs = Variable(x)\n",
    "        target = Variable(y)\n",
    "        \n",
    "    # 向前传播\n",
    "    out = model(inputs)\n",
    "    loss = criterion(out, target)\n",
    "    \n",
    "    # 向后传播\n",
    "    optimizer.zero_grad()   # 注意每次迭代都需要清零\n",
    "    loss.backward()\n",
    "    optimizer.step()\n",
    "    \n",
    "    if (epoch + 1) % 20 == 0:\n",
    "        print('Epoch[{}/{}], loss:{:.6f}'.format(epoch+1, num_epochs, loss.item()))\n"
   ]
  },
  {
   "cell_type": "code",
   "execution_count": 41,
   "metadata": {},
   "outputs": [
    {
     "data": {
      "image/png": "[encoded data removed]",
      "text/plain": [
       "<Figure size 432x288 with 1 Axes>"
      ]
     },
     "metadata": {},
     "output_type": "display_data"
    }
   ],
   "source": [
    "model.eval()\n",
    "if torch.cuda.is_available():\n",
    "    predict = model(Variable(x).cuda())\n",
    "    predict = predict.data.cpu().numpy()\n",
    "else:\n",
    "    predict = model(Variable(x))\n",
    "    predict = predict.data.numpy()\n",
    "\n",
    "plt.plot(x.numpy(), y.numpy(), 'ro', label='Origin Data')\n",
    "plt.plot(x.numpy(), predict, label='Fitting Line')\n",
    "plt.show()"
   ]
  },
  {
   "cell_type": "code",
   "execution_count": null,
   "metadata": {},
   "outputs": [],
   "source": []
  }
 ],
 "metadata": {
  "kernelspec": {
   "display_name": "Python 3",
   "language": "python",
   "name": "python3"
  },
  "language_info": {
   "codemirror_mode": {
    "name": "ipython",
    "version": 3
   },
   "file_extension": ".py",
   "mimetype": "text/x-python",
   "name": "python",
   "nbconvert_exporter": "python",
   "pygments_lexer": "ipython3",
   "version": "3.6.5"
  }
 },
 "nbformat": 4,
 "nbformat_minor": 2
}
